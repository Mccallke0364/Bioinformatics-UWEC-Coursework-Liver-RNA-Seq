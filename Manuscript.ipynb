{
 "cells": [
  {
   "attachments": {},
   "cell_type": "markdown",
   "metadata": {},
   "source": [
    "# Schistosoma Mansoni RNA Seq analysis of Intestinal and Liver Gene Expression Levels\n"
   ]
  },
  {
   "attachments": {},
   "cell_type": "markdown",
   "metadata": {},
   "source": [
    "### Introduction"
   ]
  },
  {
   "attachments": {},
   "cell_type": "markdown",
   "metadata": {},
   "source": [
    "Schistosoma Mansoni is a parasitic flatworm that infects snails and humans. When the schistosoma mansoni infects its human host, it matures and chooses a final destination to reproduce in, either the liver or the intestines. This infection is the cause of the tropical disease,Schistosomiasis. Schistosomiasis has a high global prevalence, around 700 million people are at risk of infection and 200,000 deaths occur annually. [(stat for death)](https://pmc.ncbi.nlm.nih.gov/articles/PMC6997417/#:~:text=Two%20hundred%20and%20thirty%20million,increased%20sensitivity%20to%20pathological%20antigens.) Most research done to develop treatment and design drugs for this disease focuses on analysis of the schistosoma that reside in the host's liver. The liver schistosoma are not only easiers to study, but they also cause more of the symptoms and damage. However, the intestinal schistosoma are responsible for the continuation of the species. The eggs from the intestinal worms are excreted and hatch in freshwater, infect a snail, mature and infect a new unsuspecting host. The eggs of the liver worm are far less likely to escape from the liver, when the host immune system recognizes an egg it will surround the egg. This forms a granuloma, granulomas lead to fibrosis which can lead to severe chronic liver disease. Any worms that don't make it to the intestines will remain trapped in the host until they die. [(liver eggs life)](https://pmc.ncbi.nlm.nih.gov/articles/PMC7815046/#:~:text=Summary,feces%20of%20mice%20and%20humans.) [(granuloma)](https://pmc.ncbi.nlm.nih.gov/articles/PMC8951358/#:~:text=Through%20a%20complex%20migration%20process,a%20therapeutic%20target%2C%20are%20discussed.) To develop a treatment for this disease, we analyze the genes expressed by the schistosoma to determine potential targets for drug intervention.Although a drug that targets a liver worm may reduce or eliminate symptoms, the eggs and worms that make it to the intestines are still able to infect a new host. If worms found anywhere in the host express the same genes then the current research focusing on liver worms will apply to liver worms as well. However, if gene expression levels are significantly different in the different worms then there is a need for instestinal worm analysis research to ensure treatments will be effective against all worms in the host. To determine if gene expression differs significantly between liver and intestinal worms, RNA sequencing and analysis was used to analyze and compare samples from both the liver and the intestines of mouse hosts. Discoveries made in this study will inform the direction of future research. Results from the RNAseq analysis can validate previous research and uncover unique interactions in the host's intestinal environment. This study aims to be reproducible and use popular computational approaches in transcriptomic analysis to contribute to bioinformatics.\n",
    "<!-- overview of disease and worm life, why we study gene expression?, why we compare gene expression between liver and Intestinal  -->\n",
    "\n"
   ]
  },
  {
   "attachments": {},
   "cell_type": "markdown",
   "metadata": {},
   "source": [
    "### Methods\n"
   ]
  },
  {
   "attachments": {},
   "cell_type": "markdown",
   "metadata": {},
   "source": [
    "data location \n",
    "\n",
    "library kit\n",
    "\n",
    "READ QC and Alignment\n",
    "\n",
    "alignment sequence/pipeline\n",
    "\n",
    "identification of genes and GO analysis\n"
   ]
  },
  {
   "attachments": {},
   "cell_type": "markdown",
   "metadata": {},
   "source": [
    "### Results"
   ]
  },
  {
   "attachments": {},
   "cell_type": "markdown",
   "metadata": {},
   "source": []
  },
  {
   "attachments": {},
   "cell_type": "markdown",
   "metadata": {},
   "source": [
    "### Discussion "
   ]
  },
  {
   "attachments": {},
   "cell_type": "markdown",
   "metadata": {},
   "source": [
    "What does it mean that we found significant difference in gene expression levels between liver and intestinal worms?\n",
    "\n",
    "Why might this be?\n",
    "\n",
    "What should we do to confirm or study this?\n",
    "\n",
    "why should we do more investigating?"
   ]
  },
  {
   "attachments": {},
   "cell_type": "markdown",
   "metadata": {},
   "source": [
    "### References"
   ]
  },
  {
   "cell_type": "markdown",
   "metadata": {},
   "source": []
  }
 ],
 "metadata": {
  "language_info": {
   "name": "python"
  },
  "orig_nbformat": 4
 },
 "nbformat": 4,
 "nbformat_minor": 2
}
