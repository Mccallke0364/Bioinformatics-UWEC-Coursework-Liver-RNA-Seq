{
 "cells": [
  {
   "attachments": {},
   "cell_type": "markdown",
   "metadata": {},
   "source": [
    "# Schistosoma Mansoni RNA Seq analysis of Intestinal and Liver Gene Expression Levels\n"
   ]
  },
  {
   "attachments": {},
   "cell_type": "markdown",
   "metadata": {},
   "source": [
    "### Introduction"
   ]
  },
  {
   "attachments": {},
   "cell_type": "markdown",
   "metadata": {},
   "source": [
    "Schistosoma Mansoni is a parasitic flatworm that infects snails and humans. When the schistosoma mansoni infects its human host, it matures and chooses a final destination to reproduce in, either the liver or the intestines. This infection is the cause of the tropical disease, Schistosomiasis. Schistosomiasis has a high global prevalence, around 700 million people are at risk of infection and 200,000 deaths occur annually. [(stat for death)](https://pmc.ncbi.nlm.nih.gov/articles/PMC6997417/#:~:text=Two%20hundred%20and%20thirty%20million,increased%20sensitivity%20to%20pathological%20antigens.) Most research done to design drugs and develop treatment for this disease focuses on analysis of the schistosoma that reside in the host's liver. The liver schistosoma are not only easiers to study, but they also cause more of the symptoms and damage. However, the intestinal schistosoma are responsible for the continuation of the species. The eggs from the intestinal worms are excreted and hatch in freshwater, infect a snail, mature and infect a new unsuspecting host. The eggs of the liver worm are far less likely to escape from the liver, when the host immune system recognizes an egg it will surround the egg. This forms a granuloma, granulomas lead to fibrosis which can lead to severe chronic liver disease. Any worms that don't make it to the intestines will remain trapped in the host until they die. [(liver eggs life)](https://pmc.ncbi.nlm.nih.gov/articles/PMC7815046/#:~:text=Summary,feces%20of%20mice%20and%20humans.) [(granuloma)](https://pmc.ncbi.nlm.nih.gov/articles/PMC8951358/#:~:text=Through%20a%20complex%20migration%20process,a%20therapeutic%20target%2C%20are%20discussed.) To develop a treatment for this disease, we analyze the genes expressed by the schistosoma to determine potential targets for drug intervention.Although a drug that targets a liver worm may reduce or eliminate symptoms, the eggs and worms that make it to the intestines are still able to infect a new host. If worms found anywhere in the host express the same genes then the current research focusing on liver worms will apply to liver worms as well. However, if gene expression levels are significantly different in the different worms then there is a need for instestinal worm analysis research to ensure treatments will be effective against all worms in the host. To determine if gene expression differs significantly between liver and intestinal worms, RNA sequencing and analysis was used to analyze and compare samples from both the liver and the intestines of mouse hosts. Discoveries made in this study will inform the direction of future research. Results from the RNAseq analysis can validate previous research and uncover unique interactions in the host's intestinal environment. This study aims to be reproducible and use popular computational approaches in transcriptomic analysis to contribute to bioinformatics.\n",
    "<!-- overview of disease and worm life, why we study gene expression?, why we compare gene expression between liver and Intestinal  -->\n",
    "\n"
   ]
  },
  {
   "attachments": {},
   "cell_type": "markdown",
   "metadata": {},
   "source": [
    "### Methods\n"
   ]
  },
  {
   "attachments": {},
   "cell_type": "markdown",
   "metadata": {},
   "source": [
    "##### Data Access"
   ]
  },
  {
   "attachments": {},
   "cell_type": "markdown",
   "metadata": {},
   "source": [
    "To promote and demonstrate reproducibility, this study utilized data publicly available from a previous study conducted by Peterková et al. According to the study's methods, Schistosoma mansoni egg samples were harvested from the liver and instestines of experimentally infected mice, in accordance with approved animal welfare protocols. \n",
    "\n",
    "\n",
    "<!-- [idk what this is but it looks somewhat useful](https://ftp.ebi.ac.uk/pub/databases/wormbase/parasite/releases/WBPS19/species/schistosoma_mansoni/PRJEA36577/) -->"
   ]
  },
  {
   "attachments": {},
   "cell_type": "markdown",
   "metadata": {},
   "source": [
    "##### Sequencing and Library Prep"
   ]
  },
  {
   "attachments": {},
   "cell_type": "markdown",
   "metadata": {},
   "source": [
    "Following collection, mature and immature eggs were separated, incubated overnight in [RNAlater Stabilization Solution](https://www.thermofisher.com/us/en/home/brands/product-brand/rnalater.html?ef_id=CjwKCAjwiezABhBZEiwAEbTPGIZGfMdpb1xjBA0ZpqDHCduax2C1Hc_4Q0DNuMAAqJkioaeza5_EFxoCAm0QAvD_BwE:G:s&s_kwcid=AL!3652!3!596199967644!e!!g!!rnalater%20solution!15924075301!133607799058&cid=bid_sap_rst_r01_co_cp1362_pjt0000_bid00000_0se_gaw_bt_pur_con&gad_source=1&gad_campaignid=15924075301&gbraid=0AAAAADxi_GQU2FBNrH80g0UUIB1zDocRt&gclid=CjwKCAjwiezABhBZEiwAEbTPGIZGfMdpb1xjBA0ZpqDHCduax2C1Hc_4Q0DNuMAAqJkioaeza5_EFxoCAm0QAvD_BwE) and stored at -80°C. The eggs were removed from the RNAlater, placed in [Trizol](https://www.thermofisher.com/us/en/home/brands/product-brand/trizol.html?ef_id=CjwKCAjwiezABhBZEiwAEbTPGDCsQT-Y-DLdaJzo6T6CL6oyXBB9IJt0-Nz6nef_lH5Irofcy9WhqRoCIBoQAvD_BwE:G:s&s_kwcid=AL!3652!3!614256677213!e!!g!!trizol!15924075301!138911523839&cid=bid_sap_rst_r01_co_cp1362_pjt0000_bid00000_0se_gaw_bt_pur_con&gad_source=1&gad_campaignid=15924075301&gbraid=0AAAAADxi_GQU2FBNrH80g0UUIB1zDocRt&gclid=CjwKCAjwiezABhBZEiwAEbTPGDCsQT-Y-DLdaJzo6T6CL6oyXBB9IJt0-Nz6nef_lH5Irofcy9WhqRoCIBoQAvD_BwE) and mechanically homogenized using a [plastic pestle](https://www.usascientific.com/pestle-microcentrifuge-tubes/p/Pestle-Micro). Total RNA was isolated and treated with TURBO DNase[(Invitrogen)](https://www.thermofisher.com/order/catalog/product/AM2238?ef_id=CjwKCAjwiezABhBZEiwAEbTPGKoWLRYZ-zfGlITUPNfVP6a-2LYmJi9wNqZznE9919e4MJhBg2Ro8BoCMXMQAvD_BwE:G:s&s_kwcid=AL!3652!3!737048274237!e!!g!!turbo%20dnase!10552817723!176101660556&cid=bid_mol_clo_r01_co_cp1358_pjt0000_bid00000_0se_gaw_bt_pur_con&gad_source=1&gad_campaignid=10552817723&gbraid=0AAAAADxi_GTcaY8JiKLFiyCxQKQoV4GgC&gclid=CjwKCAjwiezABhBZEiwAEbTPGKoWLRYZ-zfGlITUPNfVP6a-2LYmJi9wNqZznE9919e4MJhBg2Ro8BoCMXMQAvD_BwE), and quantified using NanoDrop Spectrophotometer[(Thermo Scientific)](https://www.thermofisher.com/us/en/home/industrial/spectroscopy-elemental-isotope-analysis/molecular-spectroscopy/uv-vis-spectrophotometry/instruments/nanodrop.html). To ensure data quality despite potential RNA degredation, cDNA libraries were prepared from 250ng of total RNA using the [QuantSeq FWD 3'](https://www.lexogen.com/store/quantseq-3-mrna-seq-v2-fwd-with-udi/) mRNA Library Prep Kit (Lexogen) with [UMI Second Strand Syntesis Module for QuantSeq FWD](https://www.lexogen.com/store/umi-second-strand-synthesis-module-for-quantseq-fwd/?utm_term=&utm_campaign=DSA+Campaign&utm_source=adwords&utm_medium=ppc&hsa_acc=1206466263&hsa_cam=1046909256&hsa_grp=56840592852&hsa_ad=691577386736&hsa_src=g&hsa_tgt=dsa-19959388920&hsa_kw=&hsa_mt=&hsa_net=adwords&hsa_ver=3&gad_source=1&gad_campaignid=1046909256&gbraid=0AAAAADtpWl8sJcj-Rjq8qgSF5LrCabEsS&gclid=CjwKCAjwiezABhBZEiwAEbTPGG7WmbArXnMqa0lOcV-6SId_XcMrmrGM5PhEdQwDBMfLi1HzWpaEkBoCiRAQAvD_BwE) and Lexogen i4 6 nt Unique Dual Indexing Add-on Kit (Lexogen). Library quality was assessed with [QuantiFluor](https://www.promega.com/products/rna-analysis/dna-and-rna-quantitation/quantifluor-dsdna-system/?catNum=E2671) dsDNA System [(Promega)](https://www.promega.com/resources/protocols/technical-manuals/101/quantifluor-dsdna-system-protocol/) and [High Sensitivity NGS Fragment](https://www.agilent.com/store/en_US/Prod-DNF-474-0500/DNF-474-0500&utm_source=google&utm_medium=free-listing&utm_campaign=shopping-org&utm_term=DNF-474-0500?gQT=1) Analysis Kit [(Agilent Technologies)](https://www.agilent.com/cs/library/usermanuals/public/quick-guide-dnf-474-hs-ngs-fragment-kit-SD-AT000134.pdf). Sequencing was performed on an Illumina NexSeq 500 (Illumina) using High Output [Kit v2.5](https://www.illumina.com/products/by-type/sequencing-kits/cluster-gen-sequencing-reagents/nextseq-series-kits-v2-5.html) 75 Cycles in single-end mode and produced approximately 10 million reads per sample. The resulting FASTQ files containing the reads were uploaded to [NCBI GenBank Database with BioProject assession number PRJNA1026419.](https://www.ncbi.nlm.nih.gov/bioproject/PRJNA1036419)\n",
    "\n",
    "\n",
    "<!-- Following collection, mature and immature eggs were separated, incubated overnight in RNAlater Stabilization Solution and stored at -80°C. The eggs were removed from the RNAlater, placed in Trizol and mechanically homogenized using a plastic pestle. Total RNA was isolated and treated with TURBO DNase (Invitrogen), and quantified using a NanoDrop Spectrophotometer (Thermo Scientific). To ensure quality despite potential degradation of RNA, cDNA libraries were prepared from 250 ng of total RNA using the QuantSeq FWD 3' mRNA Library Prep Kit (Lexogen) with UMI Second Strand Synthesis Module for QuantSeq FWD and Lexogen i4 6 nt Unique Dual Indexing Add-on Kit (Lexogen). Library quality was assessed with QuantiFluor dsDNA System (Promega) and High Sensitivity NGS Fragment Analysis Kit (Agilent Technologies). Sequencing was performed on an Illumina NexSeq 500 (Illumina) using High Output Kit v2.5 75 Cycles in single-end mode and produced approximately 10 million reads per sample. The resulting FASTQ files containing the reads were uploaded to the NCBI GenBank Database with BioProject accession number PRJNA1036419. -->"
   ]
  },
  {
   "attachments": {},
   "cell_type": "markdown",
   "metadata": {},
   "source": [
    "[QuantSeq 3’ mRNA-Seq V2 Library Prep Kit FWD with UDI](https://www.lexogen.com/store/quantseq-3-mrna-seq-v2-fwd-with-udi/) \n",
    "\n",
    "[UMI Second Strand Synthesis Module for QuantSeq FWD (Illumina, Read 1)](https://www.lexogen.com/store/umi-second-strand-synthesis-module-for-quantseq-fwd/) \n",
    "\n",
    "[New NextSeq 550](https://www.illumina.com/systems/sequencing-platforms/nextseq.html)  -\n",
    "[order](https://www.illumina.com/systems/sequencing-platforms/nextseq/order-nextseq-550.html) "
   ]
  },
  {
   "attachments": {},
   "cell_type": "markdown",
   "metadata": {},
   "source": [
    "##### Sample reads QC"
   ]
  },
  {
   "attachments": {},
   "cell_type": "markdown",
   "metadata": {},
   "source": [
    "To access the data from the NCBI Database for this study, the SRA run table containing the metadata and accession numbers was downloaded using the RunSelector. Using the assession numbers from the SRA table, parallel-fastq-dump from sra-tools(v3.1.1), and a bash while loop the FASTQ files were downloaded and stored in a new directory for future access. To assess the sequencing read quality, avoid bias in analysis,  and identify potenial issues such as adapter conamination, low-quality bases, and overrepresented sequences, quality control was performed using FastQC(v.0.12.1) and summarized with MultiQC(v1.17). After quality analysis, cutadapt(v4.9) was used to trim PolyA tails left from using illumina reads with polyA selection, remove 10 bases from the 3' end to adjust for NextSeq adapters, and filter out any reads shorter than 20 bases. FastQC was run on the trimmed reads and combined with raw read reports in a single multiqc report to assess quality improvement. \n",
    "\n",
    "\n",
    "\n",
    "\n",
    "<!-- \n",
    "\n",
    "\n",
    "Provided that the data contained single-end Illumina reads generated with PolyA selection and the study didn't mention adapter trimming status, trimming was necessary to remove polyA tails, potential adapters, and any reads that were flagged during quality control. Once cutadapt trimmed the reads \n",
    "[fastqc](https://www.bioinformatics.babraham.ac.uk/projects/fastqc/)                    0.12.1\n",
    "[sra-tools](https://github.com/ncbi/sra-tools/wiki/01.-Downloading-SRA-Toolkit)                 3.1.1\n",
    "[multiqc](https://github.com/MultiQC/MultiQC)                   1.17\n",
    "[cutadapt](https://cutadapt.readthedocs.io/en/stable/)                  4.9   \n",
    "The data was accessed through NCBI's BioProject, [(PRJNA1036419)](https://www.ncbi.nlm.nih.gov/Traces/study/?query_key=2&WebEnv=MCID_681bc5d78c0274d2f3e43571&o=acc_s%3Aa), and the SRA run table for all samples was downloaded using the RunSelector. -->\n"
   ]
  },
  {
   "attachments": {},
   "cell_type": "markdown",
   "metadata": {},
   "source": [
    "##### STAR Alignment"
   ]
  },
  {
   "attachments": {},
   "cell_type": "markdown",
   "metadata": {},
   "source": [
    "Reads were then mapped to to the Schistosoma mansoni reference genome using STAR aligner(v2.7.10b), a high-performance, splice-aware aligner, that was also used by peterova et al. to continue to demonstrate repeatibility. The [reference genome](https://ftp.ebi.ac.uk/pub/databases/wormbase/parasite/releases/WBPS19/species/schistosoma_mansoni/PRJEA36577/schistosoma_mansoni.PRJEA36577.WBPS19.genomic.fa.gz ) and its [annotations](https://ftp.ebi.ac.uk/pub/databases/wormbase/parasite/releases/WBPS19/species/schistosoma_mansoni/PRJEA36577/schistosoma_mansoni.PRJEA36577.WBPS19.canonical_geneset.gtf.gz) were obtained from the [WormBase ParaSite](https://parasite.wormbase.org/Schistosoma_mansoni_prjea36577/Info/Index/). Alignment ensures that the processed reads are accurately mapped to their corresponding genomic locations, enabling presise quantification and identification of gene expression. Alignment was done using the 2-pass mode [(section 8 STAR Manual)](https://physiology.med.cornell.edu/faculty/skrabanek/lab/angsd/lecture_notes/STARmanual.pdf) and 32 threads to optimize accuracy, sensitivity, and alignment efficiency. For the first path, the default parameters were used. The splice junction files from all samples were used to inform the second-pass via the `--sjdbFileChrStartEnd` option. This increases senitivity by allowing STAR to treat novel junctions as known splice sites. Input FASTQ files were decompressed using `zcat`, and  output was sorted in BAM format (`--outSAMtype BAM SortedByCoordinate`). Additional read attributes (`NH HI AS nM  RG`) were included to enhance downstream processing and annotation. Unmapped reads were retained for completeness(`--outSAMunmapped Within`). \n",
    "The BAM files output by STAR alignment were then indexed using samtools(v1.6) for quick access to mapped reads. STAR mapping statistics were generated using `samtools stats` to evaluate the alignment quality. Qualimap(v2.3) was used to further assess the aligment using `bamqc` for BAM quality control `bamqc` and `rnaseq` for RNA-seq analysis. These tools validated the accuracy of the alignment and produced insights into gene expression and genome coverage. Duplicate reads were identified and removed using Picard MarkDuplicates(v3.2.0). Deduplicated reads were counted using subread's(v2.0.8) `featureCounts` to assign reads to assign reads to exons, genes, promoters, etc. The `featureCounts` tool was given the BAM output file from the mark duplicates step with parameters for paired-end reads, strand specificity and the inclustion of multi-mapped reads. Also featureCounts was configured to count reads by read group using `--byReadGroup` and to output the results in a tab-separted file to facilitate vizualiztion of results. \n",
    "<!-- [subread](https://subread.sourceforge.net/)                   2.0.8 \n",
    "[picard](https://github.com/broadinstitute/picard)                    3.2.0 \n",
    "[qualimap](http://qualimap.conesalab.org/doc_html/index.html)                  2.3 \n",
    "[samtools](https://github.com/samtools/samtools)                  1.6  -->\n",
    "\n",
    "\n",
    "<!-- \n",
    "\n",
    "[STAR aligner](https://pubmed.ncbi.nlm.nih.gov/23104886/)\n",
    "(Dobin A, Davis CA, Schlesinger F, et al (2012))                      2.7.10b         -->"
   ]
  },
  {
   "attachments": {},
   "cell_type": "markdown",
   "metadata": {},
   "source": [
    "The output of featureCounts was read into R using  `read_tsv()`. A new dataframe was generated by filtering and converting the columns that were numeric to integers.(mutate(accross(where(is.numeric), as.integer))) Any genes that had less than 10 total counts or were present in less than four genes were filtered out. The filtered dataframe was converted to a matrix, log transformed for PCA, and visualized using ggplot2(v3.5.1). To create a dataframe for DESeq2(v1.38.0), the metadata were extracted from the column names of the counts dataframe. The DESeq2 dataframe was variance-stabilized used to generate sample clustering and a distance heatmap. The filtered count matriz and the metadata were used to create a DESeqDataSet object. Genes with an adjusted p-value<0.05 and |log2FoldChange|>2 were labeled as significantly differentially expressed using ggrepel(v0.9.6) in the Volcanoplot.\n",
    "Significant DEGs were put into gprofiler2(v ) for GO enrichment analysis with the the Schistosoma mansoni genome. Gostplot() was used to visualize top enriched terms. Normalized counts were plotted for genes of interest using boxplots to show differences accross sample groups and tissue origin. \n",
    "<!-- [bioconductor-deseq2](https://bioconductor.org/packages/release/bioc/html/DESeq2.html)       1.38.0 \n",
    "[r-ggplot2]((https://github.com/tidyverse/ggplot2/blob/v3.5.2/inst/CITATION))                 3.5.1 -->"
   ]
  },
  {
   "cell_type": "markdown",
   "metadata": {},
   "source": []
  },
  {
   "cell_type": "markdown",
   "metadata": {},
   "source": []
  },
  {
   "attachments": {},
   "cell_type": "markdown",
   "metadata": {},
   "source": [
    "##### Identifing differentially expressed genes"
   ]
  },
  {
   "attachments": {},
   "cell_type": "markdown",
   "metadata": {},
   "source": []
  },
  {
   "attachments": {},
   "cell_type": "markdown",
   "metadata": {},
   "source": [
    "### Results"
   ]
  },
  {
   "attachments": {},
   "cell_type": "markdown",
   "metadata": {},
   "source": []
  },
  {
   "attachments": {},
   "cell_type": "markdown",
   "metadata": {},
   "source": [
    "### Discussion "
   ]
  },
  {
   "attachments": {},
   "cell_type": "markdown",
   "metadata": {},
   "source": [
    "What does it mean that we found significant difference in gene expression levels between liver and intestinal worms?\n",
    "\n",
    "Why might this be?\n",
    "\n",
    "What should we do to confirm or study this?\n",
    "\n",
    "why should we do more investigating?"
   ]
  },
  {
   "attachments": {},
   "cell_type": "markdown",
   "metadata": {},
   "source": [
    "### References"
   ]
  },
  {
   "cell_type": "markdown",
   "metadata": {},
   "source": []
  }
 ],
 "metadata": {
  "language_info": {
   "name": "python"
  },
  "orig_nbformat": 4
 },
 "nbformat": 4,
 "nbformat_minor": 2
}
